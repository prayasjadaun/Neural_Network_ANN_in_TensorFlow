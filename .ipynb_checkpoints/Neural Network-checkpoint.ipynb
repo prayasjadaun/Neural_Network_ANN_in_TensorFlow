{
 "cells": [
  {
   "cell_type": "code",
   "execution_count": 5,
   "id": "2f8cbfc0-be0f-42d9-8a6c-4bddb3e6c750",
   "metadata": {},
   "outputs": [
    {
     "name": "stdout",
     "output_type": "stream",
     "text": [
      "ABCD\n"
     ]
    }
   ],
   "source": [
    "str = \"AAAABBBCDD\"\n",
    "empty_str = \"\"\n",
    "for i in str:\n",
    "    if i in empty_str:\n",
    "        pass\n",
    "    else:\n",
    "        empty_str = empty_str + i\n",
    "print(empty_str)\n",
    "    "
   ]
  },
  {
   "cell_type": "code",
   "execution_count": 16,
   "id": "1ad85c91-fcbf-4054-9460-3d6125452ae7",
   "metadata": {},
   "outputs": [
    {
     "name": "stdout",
     "output_type": "stream",
     "text": [
      " 1:C\n",
      " 4:A\n",
      " 4:B\n",
      " 2:D\n"
     ]
    }
   ],
   "source": [
    "str_count = \"AAAABBBBCDD\"\n",
    "for char in set(str_count):\n",
    "    count = str_count.count(char)\n",
    "    print(f\" {count}:{char}\")\n"
   ]
  },
  {
   "cell_type": "code",
   "execution_count": 21,
   "id": "70c4928e-12ac-4446-ae18-c59b85dfc0e9",
   "metadata": {},
   "outputs": [
    {
     "name": "stdout",
     "output_type": "stream",
     "text": [
      " 3:a\n",
      " 2:A\n",
      " 3:B\n",
      " 1:C\n"
     ]
    }
   ],
   "source": [
    "str_count = \"AABBBaaaC\"\n",
    "for char in set(str_count):\n",
    "    count = str_count.count(char)\n",
    "    print(f\" {count}:{char}\")\n",
    "    "
   ]
  },
  {
   "cell_type": "code",
   "execution_count": null,
   "id": "6249f832-4152-4780-9401-cfd1d24c1eca",
   "metadata": {},
   "outputs": [],
   "source": []
  }
 ],
 "metadata": {
  "kernelspec": {
   "display_name": "Python 3 (ipykernel)",
   "language": "python",
   "name": "python3"
  },
  "language_info": {
   "codemirror_mode": {
    "name": "ipython",
    "version": 3
   },
   "file_extension": ".py",
   "mimetype": "text/x-python",
   "name": "python",
   "nbconvert_exporter": "python",
   "pygments_lexer": "ipython3",
   "version": "3.11.2"
  }
 },
 "nbformat": 4,
 "nbformat_minor": 5
}
